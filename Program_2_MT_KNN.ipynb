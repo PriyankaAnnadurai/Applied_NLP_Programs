{
  "nbformat": 4,
  "nbformat_minor": 0,
  "metadata": {
    "colab": {
      "provenance": []
    },
    "kernelspec": {
      "name": "python3",
      "display_name": "Python 3"
    },
    "language_info": {
      "name": "python"
    }
  },
  "cells": [
    {
      "cell_type": "code",
      "execution_count": null,
      "metadata": {
        "colab": {
          "base_uri": "https://localhost:8080/"
        },
        "id": "KLRzYav_wViT",
        "outputId": "b60e8e9b-3465-49c8-fb22-7ac1baff7907"
      },
      "outputs": [
        {
          "output_type": "stream",
          "name": "stdout",
          "text": [
            "Requirement already satisfied: scikit-learn in /usr/local/lib/python3.10/dist-packages (1.5.2)\n",
            "Requirement already satisfied: numpy>=1.19.5 in /usr/local/lib/python3.10/dist-packages (from scikit-learn) (1.26.4)\n",
            "Requirement already satisfied: scipy>=1.6.0 in /usr/local/lib/python3.10/dist-packages (from scikit-learn) (1.13.1)\n",
            "Requirement already satisfied: joblib>=1.2.0 in /usr/local/lib/python3.10/dist-packages (from scikit-learn) (1.4.2)\n",
            "Requirement already satisfied: threadpoolctl>=3.1.0 in /usr/local/lib/python3.10/dist-packages (from scikit-learn) (3.5.0)\n"
          ]
        }
      ],
      "source": [
        "!pip install scikit-learn\n",
        "from sklearn.feature_extraction.text import TfidfVectorizer\n",
        "from sklearn.metrics.pairwise import cosine_similarity\n",
        "import numpy as np\n"
      ]
    },
    {
      "cell_type": "code",
      "source": [
        "# Sample bilingual dictionary\n",
        "english_sentences = [\n",
        "    \"hello\", \"how are you\", \"good morning\", \"good night\", \"thank you\",\n",
        "    \"see you later\", \"what is your name\", \"my name is John\", \"where is the library\",\n",
        "    \"I like to read books\"\n",
        "]\n",
        "\n",
        "french_sentences = [\n",
        "    \"bonjour\", \"comment ça va\", \"bonjour\", \"bonne nuit\", \"merci\",\n",
        "    \"à plus tard\", \"quel est ton nom\", \"mon nom est John\", \"où est la bibliothèque\",\n",
        "    \"j'aime lire des livres\"\n",
        "]\n"
      ],
      "metadata": {
        "id": "sw-xyMxywcBx"
      },
      "execution_count": null,
      "outputs": []
    },
    {
      "cell_type": "code",
      "source": [
        "vectorizer = TfidfVectorizer()\n",
        "english_vectors = vectorizer.fit_transform(english_sentences)\n"
      ],
      "metadata": {
        "id": "IFhoatrCwfsb"
      },
      "execution_count": null,
      "outputs": []
    },
    {
      "cell_type": "code",
      "source": [
        "def knn_translate(input_sentence, k=1):\n",
        "    input_vector = vectorizer.transform([input_sentence])\n",
        "\n",
        "    # Compute cosine similarity between the input sentence and all sentences in the dictionary\n",
        "    similarities = cosine_similarity(input_vector, english_vectors).flatten()\n",
        "\n",
        "    # Get indices of the top-k similar sentences\n",
        "    top_k_indices = similarities.argsort()[-k:][::-1]\n",
        "\n",
        "    # Retrieve and display the French translations for the most similar sentences\n",
        "    translations = [french_sentences[i] for i in top_k_indices]\n",
        "    return translations\n"
      ],
      "metadata": {
        "id": "m9c58_PAwhzh"
      },
      "execution_count": null,
      "outputs": []
    },
    {
      "cell_type": "code",
      "source": [],
      "metadata": {
        "id": "llnCjxtXw5qL"
      },
      "execution_count": null,
      "outputs": []
    },
    {
      "cell_type": "code",
      "source": [
        "# Test sentences\n",
        "test_sentences = [\"good evening\", \"where is the library\", \"thank you very much\"]\n",
        "\n",
        "# Translate each test sentence\n",
        "for sentence in test_sentences:\n",
        "    translations = knn_translate(sentence, k=1)  # Use k=1 for the closest translation\n",
        "    print(f\"English: {sentence} -> French: {translations[0]}\")\n"
      ],
      "metadata": {
        "colab": {
          "base_uri": "https://localhost:8080/"
        },
        "id": "nHah2laIwmiO",
        "outputId": "defb5027-09a9-41c7-f1b7-8d8a513d957e"
      },
      "execution_count": null,
      "outputs": [
        {
          "output_type": "stream",
          "name": "stdout",
          "text": [
            "English: good evening -> French: bonne nuit\n",
            "English: where is the library -> French: où est la bibliothèque\n",
            "English: thank you very much -> French: merci\n"
          ]
        }
      ]
    }
  ]
}