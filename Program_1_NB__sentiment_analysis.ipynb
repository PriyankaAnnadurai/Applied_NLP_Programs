{
  "nbformat": 4,
  "nbformat_minor": 0,
  "metadata": {
    "colab": {
      "provenance": []
    },
    "kernelspec": {
      "name": "python3",
      "display_name": "Python 3"
    },
    "language_info": {
      "name": "python"
    }
  },
  "cells": [
    {
      "cell_type": "code",
      "execution_count": null,
      "metadata": {
        "colab": {
          "base_uri": "https://localhost:8080/"
        },
        "id": "31ORylsxhq2f",
        "outputId": "374db8fc-4c9f-4c86-f240-a6dbd063731b"
      },
      "outputs": [
        {
          "output_type": "stream",
          "name": "stdout",
          "text": [
            "Accuracy: 50.00%\n",
            "Classification Report:\n",
            "              precision    recall  f1-score   support\n",
            "\n",
            "    Negative       0.50      1.00      0.67         1\n",
            "    Positive       0.00      0.00      0.00         1\n",
            "\n",
            "    accuracy                           0.50         2\n",
            "   macro avg       0.25      0.50      0.33         2\n",
            "weighted avg       0.25      0.50      0.33         2\n",
            "\n",
            "Sentence: 'I am happy to comment!' => Sentiment: Positive\n",
            "Sentence: 'This is a terrible product.' => Sentiment: Negative\n"
          ]
        },
        {
          "output_type": "stream",
          "name": "stderr",
          "text": [
            "[nltk_data] Downloading package stopwords to /root/nltk_data...\n",
            "[nltk_data]   Package stopwords is already up-to-date!\n",
            "/usr/local/lib/python3.10/dist-packages/sklearn/metrics/_classification.py:1531: UndefinedMetricWarning: Precision is ill-defined and being set to 0.0 in labels with no predicted samples. Use `zero_division` parameter to control this behavior.\n",
            "  _warn_prf(average, modifier, f\"{metric.capitalize()} is\", len(result))\n",
            "/usr/local/lib/python3.10/dist-packages/sklearn/metrics/_classification.py:1531: UndefinedMetricWarning: Precision is ill-defined and being set to 0.0 in labels with no predicted samples. Use `zero_division` parameter to control this behavior.\n",
            "  _warn_prf(average, modifier, f\"{metric.capitalize()} is\", len(result))\n",
            "/usr/local/lib/python3.10/dist-packages/sklearn/metrics/_classification.py:1531: UndefinedMetricWarning: Precision is ill-defined and being set to 0.0 in labels with no predicted samples. Use `zero_division` parameter to control this behavior.\n",
            "  _warn_prf(average, modifier, f\"{metric.capitalize()} is\", len(result))\n"
          ]
        }
      ],
      "source": [
        "# Import necessary libraries\n",
        "import nltk\n",
        "import numpy as np\n",
        "from sklearn.model_selection import train_test_split\n",
        "from sklearn.feature_extraction.text import CountVectorizer\n",
        "from sklearn.naive_bayes import MultinomialNB\n",
        "from sklearn.metrics import accuracy_score, classification_report\n",
        "from nltk.corpus import stopwords\n",
        "\n",
        "# Download NLTK data (stopwords)\n",
        "nltk.download('stopwords')\n",
        "\n",
        "# Sample dataset of sentences with their sentiments (1 = positive, 0 = negative)\n",
        "data = [\n",
        "    (\"I love this product, it works great!\", 1),\n",
        "    (\"This is the best purchase I have ever made.\", 1),\n",
        "    (\"Absolutely fantastic service and amazing quality!\", 1),\n",
        "    (\"I am very happy with my order, will buy again.\", 1),\n",
        "    (\"This is a horrible experience.\", 0),\n",
        "    (\"I hate this so much, it broke on the first day.\", 0),\n",
        "    (\"Worst product I have ever used, total waste of money.\", 0),\n",
        "    (\"I am disappointed with this product, it didn't work as expected.\", 0)\n",
        "]\n",
        "\n",
        "# Separate sentences and labels\n",
        "sentences = [pair[0] for pair in data]\n",
        "labels = np.array([pair[1] for pair in data])\n",
        "\n",
        "# Split dataset into training and testing sets\n",
        "sentences_train, sentences_test, y_train, y_test = train_test_split(sentences, labels, test_size=0.25, random_state=42)\n",
        "\n",
        "# Text Preprocessing\n",
        "# Tokenization, removing stopwords and converting text into numerical data using CountVectorizer\n",
        "\n",
        "# Instead of using a set, use a list for stop_words\n",
        "stop_words = stopwords.words('english') # Changed this line to create a list\n",
        "\n",
        "# Initialize CountVectorizer (this will convert text into a bag-of-words representation)\n",
        "vectorizer = CountVectorizer(stop_words=stop_words)\n",
        "\n",
        "# Fit the vectorizer on the training data and transform both training and test sets\n",
        "X_train = vectorizer.fit_transform(sentences_train)\n",
        "X_test = vectorizer.transform(sentences_test)\n",
        "\n",
        "# Initialize the Naive Bayes Classifier\n",
        "nb_classifier = MultinomialNB()\n",
        "\n",
        "# Train the classifier\n",
        "nb_classifier.fit(X_train, y_train)\n",
        "\n",
        "# Predict sentiments for the test set\n",
        "y_pred = nb_classifier.predict(X_test)\n",
        "\n",
        "# Evaluate the classifier's performance\n",
        "accuracy = accuracy_score(y_test, y_pred)\n",
        "print(f\"Accuracy: {accuracy * 100:.2f}%\")\n",
        "print(\"Classification Report:\")\n",
        "print(classification_report(y_test, y_pred, target_names=[\"Negative\", \"Positive\"]))\n",
        "\n",
        "# Test the model with new sentences\n",
        "test_sentences = [\"I am happy to comment!\", \"This is a terrible product.\"]\n",
        "test_X = vectorizer.transform(test_sentences)\n",
        "\n",
        "# Predict sentiments for new sentences\n",
        "predictions = nb_classifier.predict(test_X)\n",
        "\n",
        "# Output predictions\n",
        "for sentence, sentiment in zip(test_sentences, predictions):\n",
        "    print(f\"Sentence: '{sentence}' => Sentiment: {'Positive' if sentiment == 1 else 'Negative'}\")"
      ]
    }
  ]
}